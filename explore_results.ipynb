{
 "cells": [
  {
   "cell_type": "markdown",
   "metadata": {},
   "source": [
    "# Recreate Results"
   ]
  },
  {
   "cell_type": "code",
   "execution_count": 1,
   "metadata": {},
   "outputs": [],
   "source": [
    "import os\n",
    "import pickle\n",
    "import re\n",
    "import glob\n",
    "import numpy as np\n",
    "import pandas as pd \n",
    "import warnings\n",
    "from copy import deepcopy\n",
    "from causal_eval.ml_utils import COUNTVECTORIZER\n",
    "from causal_eval.utils import *\n",
    "from causal_eval.sampling import *\n",
    "\n",
    "from sklearn.feature_extraction.text import TfidfVectorizer\n",
    "from sklearn.model_selection import StratifiedKFold\n",
    "from sklearn.metrics import (\n",
    "    accuracy_score,\n",
    "    average_precision_score\n",
    ")"
   ]
  },
  {
   "cell_type": "markdown",
   "metadata": {},
   "source": [
    "### Load Data"
   ]
  },
  {
   "cell_type": "code",
   "execution_count": 2,
   "metadata": {},
   "outputs": [],
   "source": [
    "# Load Data\n",
    "fname = './data/subpopA_physics_medicine.csv'\n",
    "data = pd.read_csv(fname)\n",
    "\n",
    "# Bag of words\n",
    "vec = deepcopy(COUNTVECTORIZER)\n",
    "all_texts = data['X'].to_numpy()\n",
    "X = vec.fit_transform(all_texts).toarray()\n",
    "\n",
    "# Set parameters\n",
    "num_seeds_one_setting = 100\n",
    "zeta0, zeta1, rct, random_state = 0.85, 0.15, 0.09557700480435129, 0\n",
    "x, y, data_resampled_all_seeds = one_hyperparam_setting(data, zeta0, zeta1, num_seeds_one_setting)\n",
    "data_resampled_dict_all_seeds = resampled_data_cleanup(data_resampled_all_seeds, vec)"
   ]
  },
  {
   "cell_type": "markdown",
   "metadata": {},
   "source": [
    "### Explore paper | recreated results"
   ]
  },
  {
   "cell_type": "code",
   "execution_count": 3,
   "metadata": {},
   "outputs": [],
   "source": [
    "# Choose to present either paper or recreated results\n",
    "# path = \"recreate\"\n",
    "path = \"paper\""
   ]
  },
  {
   "cell_type": "code",
   "execution_count": 4,
   "metadata": {},
   "outputs": [
    {
     "name": "stdout",
     "output_type": "stream",
     "text": [
      "Model : adapter\n",
      "Relative Absolute Error  : 0.10402119463778871 (0.08237854344945923)\n",
      "Treatment Accuracy : 0.8318664730217751 | Outcome Accuracy : 0.9568820084921426\n",
      "\n",
      "Model : mpnet\n",
      "Relative Absolute Error  : 0.10311652298379201 (0.08110728944343315)\n",
      "Treatment Accuracy : 0.8315963216960139 | Outcome Accuracy : 0.9567512172168311\n",
      "\n",
      "Model : specter\n",
      "Relative Absolute Error  : 0.10395782373410489 (0.08482731104385374)\n",
      "Treatment Accuracy : 0.8277390786004232 | Outcome Accuracy : 0.9568534370576007\n",
      "\n",
      "Model : tf-idf\n",
      "Relative Absolute Error  : 0.11815261612606485 (0.09415519560174723)\n",
      "Treatment Accuracy : 0.8063327509494593 | Outcome Accuracy : 0.9531067102252133\n",
      "\n"
     ]
    }
   ],
   "source": [
    "def explore(model, path):\n",
    "    model_path = \"results/\" + path + \"/\" + model + \".pkl\"\n",
    "    # Load the data from the pickle file\n",
    "    with open(model_path, \"rb\") as file:\n",
    "        results = pickle.load(file)\n",
    "\n",
    "    error = [x[\"relative_abs_error\"] for x in results]\n",
    "    print(f\"Model : {model}\")\n",
    "    print(f\"Relative Absolute Error  : {np.mean(error)} ({np.std(error)})\")\n",
    "\n",
    "    treatment = [x[\"treatment_test\"] for x in results]\n",
    "    outcome = [x[\"outcome_test\"] for x in results]\n",
    "\n",
    "    acc_treatment, acc_outcome = [], []\n",
    "    for index in range(len(results)):\n",
    "\n",
    "        # Load data subset treatment/outcome variables\n",
    "        Y = data_resampled_dict_all_seeds[index][\"Y\"]\n",
    "        T = data_resampled_dict_all_seeds[index][\"T\"]\n",
    "\n",
    "        acc_treatment.append(accuracy_score(T, np.array((treatment[index] >= 0.5), dtype=int)))\n",
    "        acc_outcome.append(accuracy_score(Y, np.array((outcome[index] >= 0.5), dtype=int)))\n",
    "\n",
    "    print(f\"Treatment Accuracy : {np.mean(acc_treatment)} | Outcome Accuracy : {np.mean(acc_outcome)}\\n\")\n",
    "\n",
    "for model in [\"adapter\", \"mpnet\", \"specter\", \"tf-idf\"]:\n",
    "    explore(model, path)"
   ]
  }
 ],
 "metadata": {
  "kernelspec": {
   "display_name": "evalEnv",
   "language": "python",
   "name": "python3"
  },
  "language_info": {
   "codemirror_mode": {
    "name": "ipython",
    "version": 3
   },
   "file_extension": ".py",
   "mimetype": "text/x-python",
   "name": "python",
   "nbconvert_exporter": "python",
   "pygments_lexer": "ipython3",
   "version": "3.9.0"
  },
  "orig_nbformat": 4
 },
 "nbformat": 4,
 "nbformat_minor": 2
}
